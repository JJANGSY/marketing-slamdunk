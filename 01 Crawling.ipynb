{
 "cells": [
  {
   "attachments": {},
   "cell_type": "markdown",
   "id": "e6d76f2d",
   "metadata": {},
   "source": [
    "## 20페이지 자동화"
   ]
  },
  {
   "cell_type": "code",
   "execution_count": null,
   "id": "192028db",
   "metadata": {},
   "outputs": [],
   "source": [
    "from selenium import webdriver\n",
    "from selenium.webdriver.chrome.service import Service\n",
    "from webdriver_manager.chrome import ChromeDriverManager\n",
    "import time\n",
    "from selenium.webdriver.common.by import By\n",
    "import csv"
   ]
  },
  {
   "cell_type": "code",
   "execution_count": null,
   "id": "1db18c52",
   "metadata": {},
   "outputs": [],
   "source": [
    "filename = '블로그140개.csv'\n",
    "f = open(filename, 'w', encoding='utf-8-sig', newline='')\n",
    "writer = csv.writer(f)\n",
    "\n",
    "title = \"블로그URL 닉네임 제목 수집텍스트\".split()\n",
    "writer.writerow(title)\n",
    "\n",
    "# blog_crawl 함수는 블로그 글 하나를 크롤링해서 blog_result에 넣어줌\n",
    "\n",
    "def blog_crawl():\n",
    "    blog_result = []\n",
    "    blog_url = driver.find_element(By.CSS_SELECTOR, '.url._se3copybtn').get_attribute('title')\n",
    "    nickname = driver.find_element(By.CSS_SELECTOR, 'span.writer > span.nick').text\n",
    "    blog_title = driver.find_element(By.CSS_SELECTOR, '.se-title-text').text\n",
    "    contents = driver.find_elements(By.CLASS_NAME, 'se-section-text')\n",
    "    content_text_list = []\n",
    "    for content in contents:\n",
    "        content_text = content.text.replace('\\n', '  ')\n",
    "        content_text_list.append(content_text)\n",
    "    blog_result = [blog_url, nickname, blog_title, content_text_list]\n",
    "\n",
    "    return blog_result\n",
    "\n",
    "final_result = []\n",
    "\n",
    "\n",
    "# 아래 for문 안에서 총 140개의 블로그 글을 크롤링한다.\n",
    "# 셀레니움을 이용했으며 웹 드라이버 켜짐 -> 첫번째 글 클릭 -> 그 글이 있는 크롬 탭으로 이동 -> 크롤링 -> 첫번째 크롬 탭으로 이동 -> 두번째 글 클릭 -> 크롤링 -> ... (총 7번 반복)\n",
    "\n",
    "for page_num in range(1,21):\n",
    "    print('{}페이지 크롤링 시작합니다.'.format(page_num))\n",
    "    driver = webdriver.Chrome(service=Service(ChromeDriverManager().install()))\n",
    "    time.sleep(4)\n",
    "    driver.get('https://section.blog.naver.com/Search/Post.naver?pageNo={}&rangeType=PERIOD&orderBy=recentdate&startDate=2023-02-06&endDate=2023-02-08&keyword=%EC%8A%AC%EB%9E%A8%EB%8D%A9%ED%81%AC'.format(page_num))\n",
    "    time.sleep(4)\n",
    "\n",
    "    for i in range(1,8):\n",
    "        element = driver.find_element(By.CSS_SELECTOR, 'div:nth-child({}) > div > div.info_post > div.desc > a.desc_inner'.format(i))\n",
    "        element.click()\n",
    "        time.sleep(3)\n",
    "        driver.switch_to.window(driver.window_handles[i])\n",
    "        driver.switch_to.frame('mainFrame')\n",
    "\n",
    "        final_result.extend(blog_crawl())\n",
    "        writer.writerow(final_result[-4:])\n",
    "        time.sleep(1)\n",
    "        driver.switch_to.window(driver.window_handles[0])\n",
    "        time.sleep(1)"
   ]
  }
 ],
 "metadata": {
  "kernelspec": {
   "display_name": "study",
   "language": "python",
   "name": "python3"
  },
  "language_info": {
   "codemirror_mode": {
    "name": "ipython",
    "version": 3
   },
   "file_extension": ".py",
   "mimetype": "text/x-python",
   "name": "python",
   "nbconvert_exporter": "python",
   "pygments_lexer": "ipython3",
   "version": "3.10.9"
  },
  "vscode": {
   "interpreter": {
    "hash": "8da876d739a3abb3beaf0795bfb7fe5b56d1b2b0f0331d71f22362df15b08366"
   }
  }
 },
 "nbformat": 4,
 "nbformat_minor": 5
}
